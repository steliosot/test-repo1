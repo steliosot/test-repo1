{
  "nbformat": 4,
  "nbformat_minor": 0,
  "metadata": {
    "colab": {
      "provenance": []
    },
    "kernelspec": {
      "name": "python3",
      "display_name": "Python 3"
    },
    "language_info": {
      "name": "python"
    }
  },
  "cells": [
    {
      "cell_type": "code",
      "execution_count": null,
      "metadata": {
        "colab": {
          "base_uri": "https://localhost:8080/"
        },
        "id": "ZL1Z6jk_0MM7",
        "outputId": "b8d691ac-07d2-413b-eb46-cf656490d07d"
      },
      "outputs": [
        {
          "output_type": "stream",
          "name": "stdout",
          "text": [
            "Stelios\n",
            "London\n",
            "Hi there\n",
            "Hi there\n",
            "10\n",
            "Number is 5.5\n"
          ]
        }
      ],
      "source": [
        "print(\"Stelios\")\n",
        "print(\"London\")\n",
        "print(\"Hi\",\"there\")\n",
        "print(\"Hi there\")\n",
        "print(10)\n",
        "print(\"Number is\",5.5)"
      ]
    },
    {
      "cell_type": "code",
      "source": [
        "print((3*12+5)/23)"
      ],
      "metadata": {
        "colab": {
          "base_uri": "https://localhost:8080/"
        },
        "id": "sSCaBqlg1mt4",
        "outputId": "b3d89d0e-2b33-4280-b154-9b8167dc8b65"
      },
      "execution_count": null,
      "outputs": [
        {
          "output_type": "stream",
          "name": "stdout",
          "text": [
            "1.7826086956521738\n"
          ]
        }
      ]
    },
    {
      "cell_type": "code",
      "source": [
        "input(\"Enter a name: \")\n",
        "input(\"Enter a city: \")\n",
        "input()"
      ],
      "metadata": {
        "colab": {
          "base_uri": "https://localhost:8080/",
          "height": 59
        },
        "id": "S6CoCT3q16hi",
        "outputId": "0884d5e2-d265-488f-b6f9-6f941034d017"
      },
      "execution_count": null,
      "outputs": [
        {
          "name": "stdout",
          "output_type": "stream",
          "text": [
            "dfd\n"
          ]
        },
        {
          "output_type": "execute_result",
          "data": {
            "text/plain": [
              "'dfd'"
            ],
            "application/vnd.google.colaboratory.intrinsic+json": {
              "type": "string"
            }
          },
          "metadata": {},
          "execution_count": 15
        }
      ]
    },
    {
      "cell_type": "code",
      "source": [
        "name = input(\"Enter your name: \")\n",
        "city = input(\"Enter a city: \")\n",
        "\n",
        "print(\"Hello\",name,\"from\",city)"
      ],
      "metadata": {
        "colab": {
          "base_uri": "https://localhost:8080/"
        },
        "id": "fRwp5lhM2pjw",
        "outputId": "4f780148-0007-4e0b-ffaa-5c48ee88500a"
      },
      "execution_count": null,
      "outputs": [
        {
          "output_type": "stream",
          "name": "stdout",
          "text": [
            "Enter your name: Stelios\n",
            "Enter a city: London\n",
            "Hello Stelios from London\n"
          ]
        }
      ]
    },
    {
      "cell_type": "code",
      "source": [
        "x = 10\n",
        "print(x*3)"
      ],
      "metadata": {
        "colab": {
          "base_uri": "https://localhost:8080/"
        },
        "id": "tKF5W4a-3AW2",
        "outputId": "c2cb6693-a704-4247-8017-7b43dd0bbf04"
      },
      "execution_count": null,
      "outputs": [
        {
          "output_type": "stream",
          "name": "stdout",
          "text": [
            "30\n"
          ]
        }
      ]
    },
    {
      "cell_type": "markdown",
      "source": [
        "Exercise:\n",
        "\n",
        "Ask the user to enter their name, tel num and city.\n",
        "\n",
        "Print in the followin form:\n",
        "\n",
        "Stelios from Paris tel is: 343434343"
      ],
      "metadata": {
        "id": "B1u9Qx3w3O5D"
      }
    },
    {
      "cell_type": "code",
      "source": [
        "name = input(\"Enter your name: \")\n",
        "city = input(\"Enter your city: \")\n",
        "tel = input(\"Enter your tel number\")\n",
        "\n",
        "print(name,\"from\",city,\"tel is\",tel)"
      ],
      "metadata": {
        "colab": {
          "base_uri": "https://localhost:8080/"
        },
        "id": "F88oODQ33qUv",
        "outputId": "6bde5afa-6646-4bee-b1f6-6fff8ce93a2a"
      },
      "execution_count": null,
      "outputs": [
        {
          "output_type": "stream",
          "name": "stdout",
          "text": [
            "Enter your name: Stelios\n",
            "Enter your city: London\n",
            "Enter your tel number234234234\n",
            "Stelios from London tel is 234234234\n"
          ]
        }
      ]
    },
    {
      "cell_type": "code",
      "source": [
        "print(\"Stelios\"+\"1\")"
      ],
      "metadata": {
        "colab": {
          "base_uri": "https://localhost:8080/"
        },
        "id": "OYhM0b5a4bGz",
        "outputId": "e9edf75a-05f8-4fbe-abfa-c8eabe37b824"
      },
      "execution_count": null,
      "outputs": [
        {
          "output_type": "stream",
          "name": "stdout",
          "text": [
            "Stelios1\n"
          ]
        }
      ]
    },
    {
      "cell_type": "code",
      "source": [
        "print(\"Stelios\"*3)"
      ],
      "metadata": {
        "colab": {
          "base_uri": "https://localhost:8080/"
        },
        "id": "gmoFpmwq44UD",
        "outputId": "eef63d45-05ff-4227-e84a-415e8a7320c6"
      },
      "execution_count": null,
      "outputs": [
        {
          "output_type": "stream",
          "name": "stdout",
          "text": [
            "SteliosSteliosStelios\n"
          ]
        }
      ]
    },
    {
      "cell_type": "code",
      "source": [
        "age = int(input(\"How old are you? \"))\n",
        "print(age*3)"
      ],
      "metadata": {
        "colab": {
          "base_uri": "https://localhost:8080/"
        },
        "id": "4LaKeg3o5OXy",
        "outputId": "d43e466f-cece-4067-b0c9-c20ee4c57450"
      },
      "execution_count": null,
      "outputs": [
        {
          "output_type": "stream",
          "name": "stdout",
          "text": [
            "How old are you? 20\n",
            "60\n"
          ]
        }
      ]
    },
    {
      "cell_type": "markdown",
      "source": [
        "Exercise\n",
        "\n",
        "Ask the user to give you two numbes, one after the other.\n",
        "Print the addition of numbers.\n",
        "\n",
        "5\n",
        "6\n",
        "11"
      ],
      "metadata": {
        "id": "cStv6pcf53rv"
      }
    },
    {
      "cell_type": "code",
      "source": [
        "x = float(input(\"Enter a number: \"))\n",
        "y = float(input(\"Enter a number: \"))\n",
        "print(x/y)"
      ],
      "metadata": {
        "colab": {
          "base_uri": "https://localhost:8080/",
          "height": 247
        },
        "id": "KBICuyhs5_wZ",
        "outputId": "dcf1100f-6565-4aac-88c3-6dc4015e4c60"
      },
      "execution_count": null,
      "outputs": [
        {
          "name": "stdout",
          "output_type": "stream",
          "text": [
            "Enter a number: 7\n",
            "Enter a number: 0\n"
          ]
        },
        {
          "output_type": "error",
          "ename": "ZeroDivisionError",
          "evalue": "float division by zero",
          "traceback": [
            "\u001b[0;31m---------------------------------------------------------------------------\u001b[0m",
            "\u001b[0;31mZeroDivisionError\u001b[0m                         Traceback (most recent call last)",
            "\u001b[0;32m<ipython-input-39-73fc04896d8e>\u001b[0m in \u001b[0;36m<cell line: 3>\u001b[0;34m()\u001b[0m\n\u001b[1;32m      1\u001b[0m \u001b[0mx\u001b[0m \u001b[0;34m=\u001b[0m \u001b[0mfloat\u001b[0m\u001b[0;34m(\u001b[0m\u001b[0minput\u001b[0m\u001b[0;34m(\u001b[0m\u001b[0;34m\"Enter a number: \"\u001b[0m\u001b[0;34m)\u001b[0m\u001b[0;34m)\u001b[0m\u001b[0;34m\u001b[0m\u001b[0;34m\u001b[0m\u001b[0m\n\u001b[1;32m      2\u001b[0m \u001b[0my\u001b[0m \u001b[0;34m=\u001b[0m \u001b[0mfloat\u001b[0m\u001b[0;34m(\u001b[0m\u001b[0minput\u001b[0m\u001b[0;34m(\u001b[0m\u001b[0;34m\"Enter a number: \"\u001b[0m\u001b[0;34m)\u001b[0m\u001b[0;34m)\u001b[0m\u001b[0;34m\u001b[0m\u001b[0;34m\u001b[0m\u001b[0m\n\u001b[0;32m----> 3\u001b[0;31m \u001b[0mprint\u001b[0m\u001b[0;34m(\u001b[0m\u001b[0mx\u001b[0m\u001b[0;34m/\u001b[0m\u001b[0my\u001b[0m\u001b[0;34m)\u001b[0m\u001b[0;34m\u001b[0m\u001b[0;34m\u001b[0m\u001b[0m\n\u001b[0m",
            "\u001b[0;31mZeroDivisionError\u001b[0m: float division by zero"
          ]
        }
      ]
    },
    {
      "cell_type": "code",
      "source": [
        "x = int(input(\"Enter a number: \"))\n",
        "y = int(input(\"Enter a number: \"))\n",
        "\n",
        "if y==0:\n",
        "  print(\"I cannot divide by zero\")\n",
        "  print(\"You are stupid!\")\n",
        "else:\n",
        "  print(x/y)"
      ],
      "metadata": {
        "colab": {
          "base_uri": "https://localhost:8080/"
        },
        "id": "rL9p_b5y7x_H",
        "outputId": "f8bee4b6-e8cb-4e03-874b-968bf8dc4d6e"
      },
      "execution_count": null,
      "outputs": [
        {
          "output_type": "stream",
          "name": "stdout",
          "text": [
            "Enter a number: 5\n",
            "Enter a number: 3\n",
            "1.6666666666666667\n"
          ]
        }
      ]
    },
    {
      "cell_type": "markdown",
      "source": [
        "Ask the user to enter two integer numbers.\n",
        "Print the largest number\n",
        "\n",
        "5\n",
        "12\n",
        "Max is 12"
      ],
      "metadata": {
        "id": "DFDhsA5t9BwQ"
      }
    },
    {
      "cell_type": "code",
      "source": [
        "x = int(input(\"Enter a number: \"))\n",
        "y = int(input(\"Enter a number: \"))\n",
        "\n",
        "if x>y:\n",
        "  print(\"Max is\",x)\n",
        "else:\n",
        "  print(\"Max is\",y)"
      ],
      "metadata": {
        "colab": {
          "base_uri": "https://localhost:8080/"
        },
        "id": "wb7IzI4m9mGu",
        "outputId": "00450601-14dc-458e-bca8-1d24e819bb71"
      },
      "execution_count": null,
      "outputs": [
        {
          "output_type": "stream",
          "name": "stdout",
          "text": [
            "Enter a number: 545\n",
            "Enter a number: 4\n",
            "Max is 545\n"
          ]
        }
      ]
    },
    {
      "cell_type": "code",
      "source": [
        "x = int(input(\"Enter a number: \"))\n",
        "\n",
        "if x>0:\n",
        "  print(\"Positive\")\n",
        "elif x==0:\n",
        "  print(\"Zero\")\n",
        "else:\n",
        "  print(\"Negative\")"
      ],
      "metadata": {
        "colab": {
          "base_uri": "https://localhost:8080/"
        },
        "id": "BfmbK-jNGXgN",
        "outputId": "6b74b155-6010-4b46-b303-8a41239f2006"
      },
      "execution_count": null,
      "outputs": [
        {
          "output_type": "stream",
          "name": "stdout",
          "text": [
            "Enter a number: -56\n",
            "Negative\n"
          ]
        }
      ]
    },
    {
      "cell_type": "code",
      "source": [
        "x = int(input(\"Enter a number: \"))\n",
        "\n",
        "if x>=0 and x<=10:\n",
        "  print(\"number between 0 and 10\")\n",
        "else:\n",
        "  print(\"Something else...\")"
      ],
      "metadata": {
        "colab": {
          "base_uri": "https://localhost:8080/"
        },
        "id": "vshtftXJHA7T",
        "outputId": "47f43095-5826-4f04-b7b1-68d875dc6fff"
      },
      "execution_count": null,
      "outputs": [
        {
          "output_type": "stream",
          "name": "stdout",
          "text": [
            "Enter a number: 10\n",
            "Something else...\n"
          ]
        }
      ]
    },
    {
      "cell_type": "markdown",
      "source": [],
      "metadata": {
        "id": "DMCR3JjnHl_b"
      }
    },
    {
      "cell_type": "code",
      "source": [
        "score = int(input(\"Enter a number: \"))\n",
        "\n",
        "if score>=0 and score<10:\n",
        "  print(\"Fail\")\n",
        "elif score>=10 and score<15:\n",
        "  print(\"Pass\")\n",
        "elif score>=15 and score<=20:\n",
        "  print(\"Distinction\")\n",
        "else:\n",
        "  print(\"error\")"
      ],
      "metadata": {
        "colab": {
          "base_uri": "https://localhost:8080/"
        },
        "id": "3axEdR89JRCZ",
        "outputId": "bd4ac56f-cfb8-4f60-acb1-c27625f32b1b"
      },
      "execution_count": null,
      "outputs": [
        {
          "output_type": "stream",
          "name": "stdout",
          "text": [
            "Enter a number: 20\n",
            "Distinction\n"
          ]
        }
      ]
    }
  ]
}