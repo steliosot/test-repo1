{
  "nbformat": 4,
  "nbformat_minor": 0,
  "metadata": {
    "colab": {
      "provenance": []
    },
    "kernelspec": {
      "name": "python3",
      "display_name": "Python 3"
    },
    "language_info": {
      "name": "python"
    }
  },
  "cells": [
    {
      "cell_type": "code",
      "execution_count": null,
      "metadata": {
        "colab": {
          "base_uri": "https://localhost:8080/"
        },
        "id": "UXTFLP8UE-zY",
        "outputId": "f526688b-6211-42a9-efcc-904dbe76125d"
      },
      "outputs": [
        {
          "output_type": "stream",
          "name": "stdout",
          "text": [
            "Stelios\n",
            "5\n"
          ]
        }
      ],
      "source": [
        "print(\"Stelios\")\n",
        "print(5)"
      ]
    },
    {
      "cell_type": "code",
      "source": [
        "name = input(\"Enter your name: \")\n",
        "print(name)"
      ],
      "metadata": {
        "colab": {
          "base_uri": "https://localhost:8080/"
        },
        "id": "rt5wHhjpFZpX",
        "outputId": "6d9f48a5-8cf3-4520-911f-1d6d499f6c81"
      },
      "execution_count": null,
      "outputs": [
        {
          "output_type": "stream",
          "name": "stdout",
          "text": [
            "Enter your name: Stelios\n",
            "Stelios\n"
          ]
        }
      ]
    },
    {
      "cell_type": "code",
      "source": [
        "num = float(input(\"Enter a number: \"))\n",
        "print(num*2)"
      ],
      "metadata": {
        "colab": {
          "base_uri": "https://localhost:8080/"
        },
        "id": "S7q5mS4qFg8i",
        "outputId": "fac2ed49-f2df-4d65-8bc0-86e2bba1eb46"
      },
      "execution_count": null,
      "outputs": [
        {
          "output_type": "stream",
          "name": "stdout",
          "text": [
            "Enter a number: 34\n",
            "68.0\n"
          ]
        }
      ]
    },
    {
      "cell_type": "code",
      "source": [
        "num = float(input(\"Enter a number: \"))\n",
        "\n",
        "if num>0:\n",
        "  print(\"positive\")\n",
        "elif num<0:\n",
        "  print(\"negative\")\n",
        "else:\n",
        "  print(\"zero\")"
      ],
      "metadata": {
        "colab": {
          "base_uri": "https://localhost:8080/"
        },
        "id": "37JGXr0rFz50",
        "outputId": "6f2bd75e-182d-4e19-8828-3378eecf1f65"
      },
      "execution_count": null,
      "outputs": [
        {
          "output_type": "stream",
          "name": "stdout",
          "text": [
            "Enter a number: 0\n",
            "zero\n"
          ]
        }
      ]
    },
    {
      "cell_type": "code",
      "source": [
        "num1 = float(input(\"Enter a number: \"))\n",
        "num2 = float(input(\"Enter a number: \"))\n",
        "operation = input(\"Enter a sign (+,-,*,/,**,>,<): \")\n",
        "\n",
        "if operation==\"+\":\n",
        "  print(num1+num2)\n",
        "elif operation==\"-\":\n",
        "  print(num1-num2)\n",
        "elif operation==\"*\":\n",
        "  print(num1*num2)\n",
        "elif operation=='/' and num2!=0:\n",
        "  print(num1/num2)\n",
        "elif operation=='**':\n",
        "  print(num1**num2)\n",
        "elif operation=='>' and num1>num2:\n",
        "  print(num1)\n",
        "elif operation=='<' and num1<num2:\n",
        "  print(num1)\n",
        "else:\n",
        "  print(\"I do not support this yet!\")"
      ],
      "metadata": {
        "colab": {
          "base_uri": "https://localhost:8080/"
        },
        "id": "4nj0SwSaGern",
        "outputId": "cff727e5-0fc7-4732-e147-22f01c49779f"
      },
      "execution_count": null,
      "outputs": [
        {
          "output_type": "stream",
          "name": "stdout",
          "text": [
            "Enter a number: 4\n",
            "Enter a number: 2\n",
            "Enter a sign (+,-,*,/,**,>,<): >\n",
            "4.0\n"
          ]
        }
      ]
    },
    {
      "cell_type": "code",
      "source": [
        "2**3"
      ],
      "metadata": {
        "colab": {
          "base_uri": "https://localhost:8080/"
        },
        "id": "2rgvu8QKIRfl",
        "outputId": "5b189f91-7606-492e-b415-a9e9a67019e5"
      },
      "execution_count": null,
      "outputs": [
        {
          "output_type": "execute_result",
          "data": {
            "text/plain": [
              "8"
            ]
          },
          "metadata": {},
          "execution_count": 12
        }
      ]
    },
    {
      "cell_type": "code",
      "source": [
        "text = \"My name is Stelios and I live in London\"\n",
        "print(text[0])\n",
        "print(text[-3])"
      ],
      "metadata": {
        "colab": {
          "base_uri": "https://localhost:8080/"
        },
        "id": "suSxJAGzLKHn",
        "outputId": "c3f67b63-0682-416d-d732-82f847d7bfa6"
      },
      "execution_count": null,
      "outputs": [
        {
          "output_type": "stream",
          "name": "stdout",
          "text": [
            "M\n",
            "d\n"
          ]
        }
      ]
    },
    {
      "cell_type": "code",
      "source": [
        "name = \"ABCDEF\"\n",
        "print(name[5])\n",
        "print(name[-1])"
      ],
      "metadata": {
        "colab": {
          "base_uri": "https://localhost:8080/"
        },
        "id": "t78-SpgqL5HJ",
        "outputId": "aaf979cc-eb4e-45bb-cfc5-e2377d56cdc7"
      },
      "execution_count": null,
      "outputs": [
        {
          "output_type": "stream",
          "name": "stdout",
          "text": [
            "F\n",
            "F\n"
          ]
        }
      ]
    },
    {
      "cell_type": "code",
      "source": [
        "text = \"My name is Stelios and I live in London\"\n",
        "\n",
        "print(text[-7:])"
      ],
      "metadata": {
        "colab": {
          "base_uri": "https://localhost:8080/"
        },
        "id": "IUt_KkC8Mysy",
        "outputId": "95e9de26-0320-45b6-f9c6-c18b5400e903"
      },
      "execution_count": null,
      "outputs": [
        {
          "output_type": "stream",
          "name": "stdout",
          "text": [
            " London\n"
          ]
        }
      ]
    },
    {
      "cell_type": "code",
      "source": [
        "text = \"London, the capital of England and the United Kingdom, is a 21st-century city with history stretching back to Roman times.\""
      ],
      "metadata": {
        "id": "WPRPdP0ONlvd"
      },
      "execution_count": null,
      "outputs": []
    },
    {
      "cell_type": "code",
      "source": [
        "print(len(text))\n",
        "print(text[23:30])\n",
        "print(text[-6:-1])"
      ],
      "metadata": {
        "colab": {
          "base_uri": "https://localhost:8080/"
        },
        "id": "mBdSG9yNN2uv",
        "outputId": "0f0ded98-13a0-4179-f819-ae32c742a648"
      },
      "execution_count": null,
      "outputs": [
        {
          "output_type": "stream",
          "name": "stdout",
          "text": [
            "122\n",
            "England\n",
            "times\n"
          ]
        }
      ]
    },
    {
      "cell_type": "markdown",
      "source": [],
      "metadata": {
        "id": "KMzY7WsKO12Y"
      }
    },
    {
      "cell_type": "code",
      "source": [
        "text = input(\"Where are you from? \")\n",
        "\n",
        "# If the city starts with L then print \"Capital L\"\n",
        "# else print \"Something else\"\n",
        "# Check if the text has a . at the end, if so say you have a dot.\n",
        "# If not say there is not dot!\n",
        "\n",
        "if text[0]==\"L\":\n",
        "  print(\"Capital L\")\n",
        "else:\n",
        "  print(\"Something else\")\n",
        "\n",
        "if text[-1]=='.':\n",
        "  print(\"There is a dot\")\n",
        "else:\n",
        "  print(\"No dot!\")"
      ],
      "metadata": {
        "colab": {
          "base_uri": "https://localhost:8080/"
        },
        "id": "8NFSpeaOO3VF",
        "outputId": "28a74990-85d6-482c-f168-3cb6986bbab9"
      },
      "execution_count": null,
      "outputs": [
        {
          "output_type": "stream",
          "name": "stdout",
          "text": [
            "Where are you from? Hi there\n",
            "Something else\n",
            "No dot!\n"
          ]
        }
      ]
    }
  ]
}